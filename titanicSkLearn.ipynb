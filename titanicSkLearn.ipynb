{
  "cells": [
    {
      "metadata": {},
      "cell_type": "markdown",
      "source": "# São Paulo 14 de Agosto 2019\n## Competition Description\n\nThe sinking of the RMS Titanic is one of the most infamous shipwrecks in history.  On April 15, 1912, during her maiden voyage, the Titanic sank after colliding with an iceberg, killing 1502 out of 2224 passengers and crew. This sensational tragedy shocked the international community and led to better safety regulations for ships.\nOne of the reasons that the shipwreck led to such loss of life was that there were not enough lifeboats for the passengers and crew. Although there was some element of luck involved in surviving the sinking, some groups of people were more likely to survive than others, such as women, children, and the upper-class.\nIn this challenge, we ask you to complete the analysis of what sorts of people were likely to survive. In particular, we ask you to apply the tools of machine learning to predict which passengers survived the tragedy."
    },
    {
      "metadata": {},
      "cell_type": "markdown",
      "source": "### Arquivos: {train.csv, test.csv}"
    },
    {
      "metadata": {
        "trusted": true
      },
      "cell_type": "code",
      "source": "#Upgrade pip\n!pip install --upgrade pip",
      "execution_count": 95,
      "outputs": [
        {
          "output_type": "stream",
          "text": "Requirement already up-to-date: pip in /home/nbuser/anaconda3_420/lib/python3.5/site-packages (19.2.2)\r\n",
          "name": "stdout"
        }
      ]
    },
    {
      "metadata": {
        "trusted": true
      },
      "cell_type": "code",
      "source": "# Realizando os imports\nimport pandas as pd\nimport numpy as np\nfrom pandas import Series, DataFrame",
      "execution_count": 96,
      "outputs": []
    },
    {
      "metadata": {
        "trusted": true
      },
      "cell_type": "code",
      "source": "# Load the data\ntrain_df = pd.read_csv('data/train.csv', header=0)\ntest_df = pd.read_csv('data/test.csv', header=0)\n",
      "execution_count": 97,
      "outputs": []
    },
    {
      "metadata": {
        "trusted": true
      },
      "cell_type": "code",
      "source": "train_df.head()",
      "execution_count": 98,
      "outputs": [
        {
          "output_type": "execute_result",
          "execution_count": 98,
          "data": {
            "text/html": "<div>\n<table border=\"1\" class=\"dataframe\">\n  <thead>\n    <tr style=\"text-align: right;\">\n      <th></th>\n      <th>PassengerId</th>\n      <th>Survived</th>\n      <th>Pclass</th>\n      <th>Name</th>\n      <th>Sex</th>\n      <th>Age</th>\n      <th>SibSp</th>\n      <th>Parch</th>\n      <th>Ticket</th>\n      <th>Fare</th>\n      <th>Cabin</th>\n      <th>Embarked</th>\n    </tr>\n  </thead>\n  <tbody>\n    <tr>\n      <th>0</th>\n      <td>1</td>\n      <td>0</td>\n      <td>3</td>\n      <td>Braund, Mr. Owen Harris</td>\n      <td>male</td>\n      <td>22.0</td>\n      <td>1</td>\n      <td>0</td>\n      <td>A/5 21171</td>\n      <td>7.2500</td>\n      <td>NaN</td>\n      <td>S</td>\n    </tr>\n    <tr>\n      <th>1</th>\n      <td>2</td>\n      <td>1</td>\n      <td>1</td>\n      <td>Cumings, Mrs. John Bradley (Florence Briggs Th...</td>\n      <td>female</td>\n      <td>38.0</td>\n      <td>1</td>\n      <td>0</td>\n      <td>PC 17599</td>\n      <td>71.2833</td>\n      <td>C85</td>\n      <td>C</td>\n    </tr>\n    <tr>\n      <th>2</th>\n      <td>3</td>\n      <td>1</td>\n      <td>3</td>\n      <td>Heikkinen, Miss. Laina</td>\n      <td>female</td>\n      <td>26.0</td>\n      <td>0</td>\n      <td>0</td>\n      <td>STON/O2. 3101282</td>\n      <td>7.9250</td>\n      <td>NaN</td>\n      <td>S</td>\n    </tr>\n    <tr>\n      <th>3</th>\n      <td>4</td>\n      <td>1</td>\n      <td>1</td>\n      <td>Futrelle, Mrs. Jacques Heath (Lily May Peel)</td>\n      <td>female</td>\n      <td>35.0</td>\n      <td>1</td>\n      <td>0</td>\n      <td>113803</td>\n      <td>53.1000</td>\n      <td>C123</td>\n      <td>S</td>\n    </tr>\n    <tr>\n      <th>4</th>\n      <td>5</td>\n      <td>0</td>\n      <td>3</td>\n      <td>Allen, Mr. William Henry</td>\n      <td>male</td>\n      <td>35.0</td>\n      <td>0</td>\n      <td>0</td>\n      <td>373450</td>\n      <td>8.0500</td>\n      <td>NaN</td>\n      <td>S</td>\n    </tr>\n  </tbody>\n</table>\n</div>",
            "text/plain": "   PassengerId  Survived  Pclass  \\\n0            1         0       3   \n1            2         1       1   \n2            3         1       3   \n3            4         1       1   \n4            5         0       3   \n\n                                                Name     Sex   Age  SibSp  \\\n0                            Braund, Mr. Owen Harris    male  22.0      1   \n1  Cumings, Mrs. John Bradley (Florence Briggs Th...  female  38.0      1   \n2                             Heikkinen, Miss. Laina  female  26.0      0   \n3       Futrelle, Mrs. Jacques Heath (Lily May Peel)  female  35.0      1   \n4                           Allen, Mr. William Henry    male  35.0      0   \n\n   Parch            Ticket     Fare Cabin Embarked  \n0      0         A/5 21171   7.2500   NaN        S  \n1      0          PC 17599  71.2833   C85        C  \n2      0  STON/O2. 3101282   7.9250   NaN        S  \n3      0            113803  53.1000  C123        S  \n4      0            373450   8.0500   NaN        S  "
          },
          "metadata": {}
        }
      ]
    },
    {
      "metadata": {
        "trusted": true
      },
      "cell_type": "code",
      "source": "# Muitos valores aqui são inuteis tais como Name, PassengerId e Embarked.\ntrain = train_df[['Survived', 'Pclass', 'Sex', 'Age']]",
      "execution_count": 101,
      "outputs": []
    },
    {
      "metadata": {
        "trusted": true
      },
      "cell_type": "code",
      "source": "train.head()",
      "execution_count": 111,
      "outputs": [
        {
          "output_type": "execute_result",
          "execution_count": 111,
          "data": {
            "text/html": "<div>\n<table border=\"1\" class=\"dataframe\">\n  <thead>\n    <tr style=\"text-align: right;\">\n      <th></th>\n      <th>Survived</th>\n      <th>Pclass</th>\n      <th>Sex</th>\n      <th>Age</th>\n    </tr>\n  </thead>\n  <tbody>\n    <tr>\n      <th>0</th>\n      <td>0</td>\n      <td>3</td>\n      <td>male</td>\n      <td>22.0</td>\n    </tr>\n    <tr>\n      <th>1</th>\n      <td>1</td>\n      <td>1</td>\n      <td>female</td>\n      <td>38.0</td>\n    </tr>\n    <tr>\n      <th>2</th>\n      <td>1</td>\n      <td>3</td>\n      <td>female</td>\n      <td>26.0</td>\n    </tr>\n    <tr>\n      <th>3</th>\n      <td>1</td>\n      <td>1</td>\n      <td>female</td>\n      <td>35.0</td>\n    </tr>\n    <tr>\n      <th>4</th>\n      <td>0</td>\n      <td>3</td>\n      <td>male</td>\n      <td>35.0</td>\n    </tr>\n  </tbody>\n</table>\n</div>",
            "text/plain": "   Survived  Pclass     Sex   Age\n0         0       3    male  22.0\n1         1       1  female  38.0\n2         1       3  female  26.0\n3         1       1  female  35.0\n4         0       3    male  35.0"
          },
          "metadata": {}
        }
      ]
    },
    {
      "metadata": {
        "trusted": true
      },
      "cell_type": "code",
      "source": "#Alterado nome da coluna Sex para Male\ntrain.columns = ['Survived','Pclass', 'Male', 'Age']",
      "execution_count": 112,
      "outputs": []
    },
    {
      "metadata": {
        "trusted": true
      },
      "cell_type": "code",
      "source": "train['Age'].isnull().sum()",
      "execution_count": 114,
      "outputs": [
        {
          "output_type": "execute_result",
          "execution_count": 114,
          "data": {
            "text/plain": "177"
          },
          "metadata": {}
        }
      ]
    },
    {
      "metadata": {
        "trusted": true
      },
      "cell_type": "code",
      "source": "train.count()",
      "execution_count": 132,
      "outputs": [
        {
          "output_type": "execute_result",
          "execution_count": 132,
          "data": {
            "text/plain": "Survived    891\nPclass      891\nMale        891\nAge         891\ndtype: int64"
          },
          "metadata": {}
        }
      ]
    },
    {
      "metadata": {
        "trusted": true
      },
      "cell_type": "code",
      "source": "# Preciso arrumar as idades existem 177 idades NaN\ntrain.loc[train['Age'] > 0].mean()",
      "execution_count": 117,
      "outputs": [
        {
          "output_type": "execute_result",
          "execution_count": 117,
          "data": {
            "text/plain": "Survived     0.406162\nPclass       2.236695\nAge         29.699118\ndtype: float64"
          },
          "metadata": {}
        }
      ]
    },
    {
      "metadata": {
        "trusted": true
      },
      "cell_type": "code",
      "source": "#Media das idades obtidas\ntrain.loc[train.Age.isnull() == True, 'Age'] = 30",
      "execution_count": 125,
      "outputs": [
        {
          "output_type": "stream",
          "text": "/home/nbuser/anaconda3_420/lib/python3.5/site-packages/pandas/core/indexing.py:477: SettingWithCopyWarning: \nA value is trying to be set on a copy of a slice from a DataFrame.\nTry using .loc[row_indexer,col_indexer] = value instead\n\nSee the caveats in the documentation: http://pandas.pydata.org/pandas-docs/stable/indexing.html#indexing-view-versus-copy\n  self.obj[item] = s\n",
          "name": "stderr"
        }
      ]
    },
    {
      "metadata": {
        "trusted": true
      },
      "cell_type": "code",
      "source": "train.head(7)",
      "execution_count": 131,
      "outputs": [
        {
          "output_type": "execute_result",
          "execution_count": 131,
          "data": {
            "text/html": "<div>\n<table border=\"1\" class=\"dataframe\">\n  <thead>\n    <tr style=\"text-align: right;\">\n      <th></th>\n      <th>Survived</th>\n      <th>Pclass</th>\n      <th>Male</th>\n      <th>Age</th>\n    </tr>\n  </thead>\n  <tbody>\n    <tr>\n      <th>0</th>\n      <td>0</td>\n      <td>3</td>\n      <td>1</td>\n      <td>22.0</td>\n    </tr>\n    <tr>\n      <th>1</th>\n      <td>1</td>\n      <td>1</td>\n      <td>0</td>\n      <td>38.0</td>\n    </tr>\n    <tr>\n      <th>2</th>\n      <td>1</td>\n      <td>3</td>\n      <td>0</td>\n      <td>26.0</td>\n    </tr>\n    <tr>\n      <th>3</th>\n      <td>1</td>\n      <td>1</td>\n      <td>0</td>\n      <td>35.0</td>\n    </tr>\n    <tr>\n      <th>4</th>\n      <td>0</td>\n      <td>3</td>\n      <td>1</td>\n      <td>35.0</td>\n    </tr>\n    <tr>\n      <th>5</th>\n      <td>0</td>\n      <td>3</td>\n      <td>1</td>\n      <td>30.0</td>\n    </tr>\n    <tr>\n      <th>6</th>\n      <td>0</td>\n      <td>1</td>\n      <td>1</td>\n      <td>54.0</td>\n    </tr>\n  </tbody>\n</table>\n</div>",
            "text/plain": "   Survived  Pclass Male   Age\n0         0       3    1  22.0\n1         1       1    0  38.0\n2         1       3    0  26.0\n3         1       1    0  35.0\n4         0       3    1  35.0\n5         0       3    1  30.0\n6         0       1    1  54.0"
          },
          "metadata": {}
        }
      ]
    },
    {
      "metadata": {
        "trusted": true
      },
      "cell_type": "code",
      "source": "train.loc[train.Male == 'male', 'Male'] = 1\ntrain.loc[train.Male == 'female', 'Male'] = 0",
      "execution_count": 133,
      "outputs": [
        {
          "output_type": "stream",
          "text": "/home/nbuser/anaconda3_420/lib/python3.5/site-packages/pandas/core/indexing.py:477: SettingWithCopyWarning: \nA value is trying to be set on a copy of a slice from a DataFrame.\nTry using .loc[row_indexer,col_indexer] = value instead\n\nSee the caveats in the documentation: http://pandas.pydata.org/pandas-docs/stable/indexing.html#indexing-view-versus-copy\n  self.obj[item] = s\n",
          "name": "stderr"
        }
      ]
    },
    {
      "metadata": {
        "trusted": true
      },
      "cell_type": "code",
      "source": "train.loc[train['Pclass']  >2]",
      "execution_count": 137,
      "outputs": [
        {
          "output_type": "execute_result",
          "execution_count": 137,
          "data": {
            "text/html": "<div>\n<table border=\"1\" class=\"dataframe\">\n  <thead>\n    <tr style=\"text-align: right;\">\n      <th></th>\n      <th>Survived</th>\n      <th>Pclass</th>\n      <th>Male</th>\n      <th>Age</th>\n    </tr>\n  </thead>\n  <tbody>\n    <tr>\n      <th>0</th>\n      <td>0</td>\n      <td>3</td>\n      <td>1</td>\n      <td>22.0</td>\n    </tr>\n    <tr>\n      <th>2</th>\n      <td>1</td>\n      <td>3</td>\n      <td>0</td>\n      <td>26.0</td>\n    </tr>\n    <tr>\n      <th>4</th>\n      <td>0</td>\n      <td>3</td>\n      <td>1</td>\n      <td>35.0</td>\n    </tr>\n    <tr>\n      <th>5</th>\n      <td>0</td>\n      <td>3</td>\n      <td>1</td>\n      <td>30.0</td>\n    </tr>\n    <tr>\n      <th>7</th>\n      <td>0</td>\n      <td>3</td>\n      <td>1</td>\n      <td>2.0</td>\n    </tr>\n    <tr>\n      <th>8</th>\n      <td>1</td>\n      <td>3</td>\n      <td>0</td>\n      <td>27.0</td>\n    </tr>\n    <tr>\n      <th>10</th>\n      <td>1</td>\n      <td>3</td>\n      <td>0</td>\n      <td>4.0</td>\n    </tr>\n    <tr>\n      <th>12</th>\n      <td>0</td>\n      <td>3</td>\n      <td>1</td>\n      <td>20.0</td>\n    </tr>\n    <tr>\n      <th>13</th>\n      <td>0</td>\n      <td>3</td>\n      <td>1</td>\n      <td>39.0</td>\n    </tr>\n    <tr>\n      <th>14</th>\n      <td>0</td>\n      <td>3</td>\n      <td>0</td>\n      <td>14.0</td>\n    </tr>\n    <tr>\n      <th>16</th>\n      <td>0</td>\n      <td>3</td>\n      <td>1</td>\n      <td>2.0</td>\n    </tr>\n    <tr>\n      <th>18</th>\n      <td>0</td>\n      <td>3</td>\n      <td>0</td>\n      <td>31.0</td>\n    </tr>\n    <tr>\n      <th>19</th>\n      <td>1</td>\n      <td>3</td>\n      <td>0</td>\n      <td>30.0</td>\n    </tr>\n    <tr>\n      <th>22</th>\n      <td>1</td>\n      <td>3</td>\n      <td>0</td>\n      <td>15.0</td>\n    </tr>\n    <tr>\n      <th>24</th>\n      <td>0</td>\n      <td>3</td>\n      <td>0</td>\n      <td>8.0</td>\n    </tr>\n    <tr>\n      <th>25</th>\n      <td>1</td>\n      <td>3</td>\n      <td>0</td>\n      <td>38.0</td>\n    </tr>\n    <tr>\n      <th>26</th>\n      <td>0</td>\n      <td>3</td>\n      <td>1</td>\n      <td>30.0</td>\n    </tr>\n    <tr>\n      <th>28</th>\n      <td>1</td>\n      <td>3</td>\n      <td>0</td>\n      <td>30.0</td>\n    </tr>\n    <tr>\n      <th>29</th>\n      <td>0</td>\n      <td>3</td>\n      <td>1</td>\n      <td>30.0</td>\n    </tr>\n    <tr>\n      <th>32</th>\n      <td>1</td>\n      <td>3</td>\n      <td>0</td>\n      <td>30.0</td>\n    </tr>\n    <tr>\n      <th>36</th>\n      <td>1</td>\n      <td>3</td>\n      <td>1</td>\n      <td>30.0</td>\n    </tr>\n    <tr>\n      <th>37</th>\n      <td>0</td>\n      <td>3</td>\n      <td>1</td>\n      <td>21.0</td>\n    </tr>\n    <tr>\n      <th>38</th>\n      <td>0</td>\n      <td>3</td>\n      <td>0</td>\n      <td>18.0</td>\n    </tr>\n    <tr>\n      <th>39</th>\n      <td>1</td>\n      <td>3</td>\n      <td>0</td>\n      <td>14.0</td>\n    </tr>\n    <tr>\n      <th>40</th>\n      <td>0</td>\n      <td>3</td>\n      <td>0</td>\n      <td>40.0</td>\n    </tr>\n    <tr>\n      <th>42</th>\n      <td>0</td>\n      <td>3</td>\n      <td>1</td>\n      <td>30.0</td>\n    </tr>\n    <tr>\n      <th>44</th>\n      <td>1</td>\n      <td>3</td>\n      <td>0</td>\n      <td>19.0</td>\n    </tr>\n    <tr>\n      <th>45</th>\n      <td>0</td>\n      <td>3</td>\n      <td>1</td>\n      <td>30.0</td>\n    </tr>\n    <tr>\n      <th>46</th>\n      <td>0</td>\n      <td>3</td>\n      <td>1</td>\n      <td>30.0</td>\n    </tr>\n    <tr>\n      <th>47</th>\n      <td>1</td>\n      <td>3</td>\n      <td>0</td>\n      <td>30.0</td>\n    </tr>\n    <tr>\n      <th>...</th>\n      <td>...</td>\n      <td>...</td>\n      <td>...</td>\n      <td>...</td>\n    </tr>\n    <tr>\n      <th>837</th>\n      <td>0</td>\n      <td>3</td>\n      <td>1</td>\n      <td>30.0</td>\n    </tr>\n    <tr>\n      <th>838</th>\n      <td>1</td>\n      <td>3</td>\n      <td>1</td>\n      <td>32.0</td>\n    </tr>\n    <tr>\n      <th>840</th>\n      <td>0</td>\n      <td>3</td>\n      <td>1</td>\n      <td>20.0</td>\n    </tr>\n    <tr>\n      <th>843</th>\n      <td>0</td>\n      <td>3</td>\n      <td>1</td>\n      <td>34.5</td>\n    </tr>\n    <tr>\n      <th>844</th>\n      <td>0</td>\n      <td>3</td>\n      <td>1</td>\n      <td>17.0</td>\n    </tr>\n    <tr>\n      <th>845</th>\n      <td>0</td>\n      <td>3</td>\n      <td>1</td>\n      <td>42.0</td>\n    </tr>\n    <tr>\n      <th>846</th>\n      <td>0</td>\n      <td>3</td>\n      <td>1</td>\n      <td>30.0</td>\n    </tr>\n    <tr>\n      <th>847</th>\n      <td>0</td>\n      <td>3</td>\n      <td>1</td>\n      <td>35.0</td>\n    </tr>\n    <tr>\n      <th>850</th>\n      <td>0</td>\n      <td>3</td>\n      <td>1</td>\n      <td>4.0</td>\n    </tr>\n    <tr>\n      <th>851</th>\n      <td>0</td>\n      <td>3</td>\n      <td>1</td>\n      <td>74.0</td>\n    </tr>\n    <tr>\n      <th>852</th>\n      <td>0</td>\n      <td>3</td>\n      <td>0</td>\n      <td>9.0</td>\n    </tr>\n    <tr>\n      <th>855</th>\n      <td>1</td>\n      <td>3</td>\n      <td>0</td>\n      <td>18.0</td>\n    </tr>\n    <tr>\n      <th>858</th>\n      <td>1</td>\n      <td>3</td>\n      <td>0</td>\n      <td>24.0</td>\n    </tr>\n    <tr>\n      <th>859</th>\n      <td>0</td>\n      <td>3</td>\n      <td>1</td>\n      <td>30.0</td>\n    </tr>\n    <tr>\n      <th>860</th>\n      <td>0</td>\n      <td>3</td>\n      <td>1</td>\n      <td>41.0</td>\n    </tr>\n    <tr>\n      <th>863</th>\n      <td>0</td>\n      <td>3</td>\n      <td>0</td>\n      <td>30.0</td>\n    </tr>\n    <tr>\n      <th>868</th>\n      <td>0</td>\n      <td>3</td>\n      <td>1</td>\n      <td>30.0</td>\n    </tr>\n    <tr>\n      <th>869</th>\n      <td>1</td>\n      <td>3</td>\n      <td>1</td>\n      <td>4.0</td>\n    </tr>\n    <tr>\n      <th>870</th>\n      <td>0</td>\n      <td>3</td>\n      <td>1</td>\n      <td>26.0</td>\n    </tr>\n    <tr>\n      <th>873</th>\n      <td>0</td>\n      <td>3</td>\n      <td>1</td>\n      <td>47.0</td>\n    </tr>\n    <tr>\n      <th>875</th>\n      <td>1</td>\n      <td>3</td>\n      <td>0</td>\n      <td>15.0</td>\n    </tr>\n    <tr>\n      <th>876</th>\n      <td>0</td>\n      <td>3</td>\n      <td>1</td>\n      <td>20.0</td>\n    </tr>\n    <tr>\n      <th>877</th>\n      <td>0</td>\n      <td>3</td>\n      <td>1</td>\n      <td>19.0</td>\n    </tr>\n    <tr>\n      <th>878</th>\n      <td>0</td>\n      <td>3</td>\n      <td>1</td>\n      <td>30.0</td>\n    </tr>\n    <tr>\n      <th>881</th>\n      <td>0</td>\n      <td>3</td>\n      <td>1</td>\n      <td>33.0</td>\n    </tr>\n    <tr>\n      <th>882</th>\n      <td>0</td>\n      <td>3</td>\n      <td>0</td>\n      <td>22.0</td>\n    </tr>\n    <tr>\n      <th>884</th>\n      <td>0</td>\n      <td>3</td>\n      <td>1</td>\n      <td>25.0</td>\n    </tr>\n    <tr>\n      <th>885</th>\n      <td>0</td>\n      <td>3</td>\n      <td>0</td>\n      <td>39.0</td>\n    </tr>\n    <tr>\n      <th>888</th>\n      <td>0</td>\n      <td>3</td>\n      <td>0</td>\n      <td>30.0</td>\n    </tr>\n    <tr>\n      <th>890</th>\n      <td>0</td>\n      <td>3</td>\n      <td>1</td>\n      <td>32.0</td>\n    </tr>\n  </tbody>\n</table>\n<p>491 rows × 4 columns</p>\n</div>",
            "text/plain": "     Survived  Pclass Male   Age\n0           0       3    1  22.0\n2           1       3    0  26.0\n4           0       3    1  35.0\n5           0       3    1  30.0\n7           0       3    1   2.0\n8           1       3    0  27.0\n10          1       3    0   4.0\n12          0       3    1  20.0\n13          0       3    1  39.0\n14          0       3    0  14.0\n16          0       3    1   2.0\n18          0       3    0  31.0\n19          1       3    0  30.0\n22          1       3    0  15.0\n24          0       3    0   8.0\n25          1       3    0  38.0\n26          0       3    1  30.0\n28          1       3    0  30.0\n29          0       3    1  30.0\n32          1       3    0  30.0\n36          1       3    1  30.0\n37          0       3    1  21.0\n38          0       3    0  18.0\n39          1       3    0  14.0\n40          0       3    0  40.0\n42          0       3    1  30.0\n44          1       3    0  19.0\n45          0       3    1  30.0\n46          0       3    1  30.0\n47          1       3    0  30.0\n..        ...     ...  ...   ...\n837         0       3    1  30.0\n838         1       3    1  32.0\n840         0       3    1  20.0\n843         0       3    1  34.5\n844         0       3    1  17.0\n845         0       3    1  42.0\n846         0       3    1  30.0\n847         0       3    1  35.0\n850         0       3    1   4.0\n851         0       3    1  74.0\n852         0       3    0   9.0\n855         1       3    0  18.0\n858         1       3    0  24.0\n859         0       3    1  30.0\n860         0       3    1  41.0\n863         0       3    0  30.0\n868         0       3    1  30.0\n869         1       3    1   4.0\n870         0       3    1  26.0\n873         0       3    1  47.0\n875         1       3    0  15.0\n876         0       3    1  20.0\n877         0       3    1  19.0\n878         0       3    1  30.0\n881         0       3    1  33.0\n882         0       3    0  22.0\n884         0       3    1  25.0\n885         0       3    0  39.0\n888         0       3    0  30.0\n890         0       3    1  32.0\n\n[491 rows x 4 columns]"
          },
          "metadata": {}
        }
      ]
    },
    {
      "metadata": {
        "trusted": true
      },
      "cell_type": "code",
      "source": "",
      "execution_count": null,
      "outputs": []
    },
    {
      "metadata": {
        "trusted": true
      },
      "cell_type": "code",
      "source": "# We'll impute missing values using the median for numeric columns and the most\n# common value for string columns.\n# This is based on some nice code by 'sveitser' at http://stackoverflow.com/a/25562948\nfrom sklearn.base import TransformerMixin",
      "execution_count": null,
      "outputs": []
    },
    {
      "metadata": {
        "trusted": true
      },
      "cell_type": "code",
      "source": "class DataFrameImputer(TransformerMixin):\n    def fit(self, X, y=None):\n        self.fill = pd.Series([X[c].value_counts().index[0]\n            if X[c].dtype == np.dtype('O') else X[c].median() for c in X],\n            index=X.columns)\n        return self\n    def transform(self, X, y=None):\n        return X.fillna(self.fill)\n\nfeature_columns_to_use = ['Pclass','Sex','Age','Fare','Parch']\nnonnumeric_columns = ['Sex']\n",
      "execution_count": null,
      "outputs": []
    },
    {
      "metadata": {
        "trusted": true
      },
      "cell_type": "code",
      "source": "# Join the features from train and test together before imputing missing values,\n# in case their distribution is slightly different\nbig_X = train_df[feature_columns_to_use].append(test_df[feature_columns_to_use])\nbig_X_imputed = DataFrameImputer().fit_transform(big_X)\n",
      "execution_count": null,
      "outputs": []
    },
    {
      "metadata": {
        "trusted": true
      },
      "cell_type": "code",
      "source": "# XGBoost doesn't (yet) handle categorical features automatically, so we need to change\n# them to columns of integer values.\n# See http://scikit-learn.org/stable/modules/preprocessing.html#preprocessing for more\n# details and options\nle = LabelEncoder()\nfor feature in nonnumeric_columns:\n    big_X_imputed[feature] = le.fit_transform(big_X_imputed[feature])\n",
      "execution_count": null,
      "outputs": []
    },
    {
      "metadata": {
        "trusted": true
      },
      "cell_type": "code",
      "source": "# Prepare the inputs for the model\ntrain_X = big_X_imputed[0:train_df.shape[0]].as_matrix()\ntest_X = big_X_imputed[train_df.shape[0]::].as_matrix()\ntrain_y = train_df['Survived']\n\n",
      "execution_count": null,
      "outputs": []
    },
    {
      "metadata": {
        "trusted": true
      },
      "cell_type": "code",
      "source": "# You can experiment with many other options here, using the same .fit() and .predict()\n# methods; see http://scikit-learn.org\n# This example uses the current build of XGBoost, from https://github.com/dmlc/xgboost\ngbm = xgb.XGBClassifier(max_depth=3, n_estimators=333, learning_rate=0.0001).fit(train_X, train_y)\npredictions = gbm.predict(test_X)\n",
      "execution_count": null,
      "outputs": []
    },
    {
      "metadata": {
        "trusted": true
      },
      "cell_type": "code",
      "source": "# Kaggle needs the submission to have a certain format;\n# see https://www.kaggle.com/c/titanic-gettingStarted/download/gendermodel.csv\n# for an example of what it's supposed to look like.\nsubmission = pd.DataFrame({ 'PassengerId': test_df['PassengerId'],\n                            'Survived': predictions })\nsubmission.to_csv(\"data/submission.csv\", index=False)",
      "execution_count": null,
      "outputs": []
    }
  ],
  "metadata": {
    "kernelspec": {
      "name": "python3",
      "display_name": "Python 3",
      "language": "python"
    },
    "language_info": {
      "mimetype": "text/x-python",
      "nbconvert_exporter": "python",
      "name": "python",
      "file_extension": ".py",
      "version": "3.5.4",
      "pygments_lexer": "ipython3",
      "codemirror_mode": {
        "version": 3,
        "name": "ipython"
      }
    }
  },
  "nbformat": 4,
  "nbformat_minor": 2
}